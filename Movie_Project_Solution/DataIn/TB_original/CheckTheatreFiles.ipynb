{
 "cells": [
  {
   "cell_type": "code",
   "execution_count": 12,
   "metadata": {},
   "outputs": [
    {
     "name": "stdout",
     "output_type": "stream",
     "text": [
      "         Print/Film Playing Format  Minimum Performance Count  \\\n",
      "0              Kin    Clean     2D                          4   \n",
      "1   Happytime Murd    Clean     2D                          4   \n",
      "2            Alpha    Clean     2D                          4   \n",
      "\n",
      "   Auditorium Size Preference  Expected Demand  Pre-Show Advertising  \\\n",
      "0                         NaN              NaN                    30   \n",
      "1                         NaN              NaN                    30   \n",
      "2                         NaN              NaN                    30   \n",
      "\n",
      "   Trailers  Runtime  Post Clean Time  Unnamed: 10  Custom Auditorium  \\\n",
      "0        20      102               15          NaN                NaN   \n",
      "1        20       91               15          NaN                NaN   \n",
      "2        20       97               15          NaN                NaN   \n",
      "\n",
      "   Custom Showtime  Minimum Spacing between film  \n",
      "0              NaN                           NaN  \n",
      "1              NaN                           NaN  \n",
      "2              NaN                           NaN  \n"
     ]
    }
   ],
   "source": [
    "import pandas as pd\n",
    "TB = pd.read_csv(\"Theatre_Bookings.csv\")\n",
    "TDetes = pd.read_csv(\"Theatre_Details.csv\")\n",
    "print(TB)"
   ]
  },
  {
   "cell_type": "code",
   "execution_count": 13,
   "metadata": {},
   "outputs": [
    {
     "name": "stdout",
     "output_type": "stream",
     "text": [
      "   Auditoriums  Seat Count\n",
      "0            1         200\n",
      "1            2         200\n",
      "2            3         200\n"
     ]
    }
   ],
   "source": [
    "print(TDetes)"
   ]
  },
  {
   "cell_type": "code",
   "execution_count": null,
   "metadata": {},
   "outputs": [],
   "source": []
  }
 ],
 "metadata": {
  "kernelspec": {
   "display_name": "Python 3",
   "language": "python",
   "name": "python3"
  },
  "language_info": {
   "codemirror_mode": {
    "name": "ipython",
    "version": 3
   },
   "file_extension": ".py",
   "mimetype": "text/x-python",
   "name": "python",
   "nbconvert_exporter": "python",
   "pygments_lexer": "ipython3",
   "version": "3.7.4"
  }
 },
 "nbformat": 4,
 "nbformat_minor": 4
}
