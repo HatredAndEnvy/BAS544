{
 "cells": [
  {
   "cell_type": "code",
   "execution_count": 5,
   "metadata": {},
   "outputs": [],
   "source": [
    "run -i createSchedules.py"
   ]
  },
  {
   "cell_type": "code",
   "execution_count": 4,
   "metadata": {},
   "outputs": [
    {
     "name": "stdout",
     "output_type": "stream",
     "text": [
      "   Auditoriums  Seat Count\n",
      "0            1         200\n",
      "1            2         200\n",
      "2            3         200\n"
     ]
    }
   ],
   "source": [
    "print(ThDetsDF)"
   ]
  },
  {
   "cell_type": "code",
   "execution_count": 14,
   "metadata": {},
   "outputs": [
    {
     "data": {
      "text/plain": [
       "3"
      ]
     },
     "execution_count": 14,
     "metadata": {},
     "output_type": "execute_result"
    }
   ],
   "source": [
    "ThDetsDF.shape[0]\n"
   ]
  },
  {
   "cell_type": "code",
   "execution_count": 31,
   "metadata": {},
   "outputs": [
    {
     "name": "stdout",
     "output_type": "stream",
     "text": [
      "['TB_fake_Schedule.csv']\n"
     ]
    },
    {
     "data": {
      "text/plain": [
       "str"
      ]
     },
     "execution_count": 31,
     "metadata": {},
     "output_type": "execute_result"
    }
   ],
   "source": [
    "schedules =  [ f.name for f in os.scandir(\"Schedules\") if f.is_file() & bool(re.search(\".*_Schedule\\.csv$\", f.name)) ]\n",
    "print(schedules)\n",
    "re.search(schedules[0])"
   ]
  },
  {
   "cell_type": "code",
   "execution_count": 32,
   "metadata": {},
   "outputs": [],
   "source": [
    "scheduleNamesDict = [{'label' : re.search('^(.+?)_Schedule\\.csv', sch).group(1), 'value': sch} for sch in schedules]"
   ]
  },
  {
   "cell_type": "code",
   "execution_count": 33,
   "metadata": {},
   "outputs": [
    {
     "name": "stdout",
     "output_type": "stream",
     "text": [
      "[{'label': 'TB_fake', 'value': 'TB_fake_Schedule.csv'}]\n"
     ]
    }
   ],
   "source": [
    "print(scheduleNamesDict)"
   ]
  },
  {
   "cell_type": "code",
   "execution_count": 26,
   "metadata": {},
   "outputs": [
    {
     "name": "stdout",
     "output_type": "stream",
     "text": [
      "['TB_fake_Schedule.csv', 'TB_original_Schedule__.csv']\n"
     ]
    }
   ],
   "source": [
    "startTimesDF = pd.read_csv(\"Schedules/\" + 'TB_fake_Schedule.csv' )"
   ]
  },
  {
   "cell_type": "code",
   "execution_count": 6,
   "metadata": {},
   "outputs": [
    {
     "name": "stdout",
     "output_type": "stream",
     "text": [
      "Help on function generateSchedule in module movieModel:\n",
      "\n",
      "generateSchedule(theatreBookingsDF, theatreDetailsDF, TUsize=15, startTime=datetime.datetime(2020, 1, 26, 13, 0), endTime=datetime.datetime(2020, 1, 26, 22, 45))\n",
      "    generateSchedule creates a day's schedule of movie showings for a cinema.\n",
      "    It takes in 2 dataframes: First one contains 'movie' information.  The second contains 'Theatre' informations.  Implicitly, it gives us the number of theatres...\n",
      "    TUsize is the resolution of time used to generate the schedule.  Smaller values take longer to run typically.\n",
      "    startTime is the first possible showtime (Default 1 PM 1/26/20).\n",
      "    endTime is the latest possible showtime (Default 10:45 PM 1/26/20).\n",
      "\n"
     ]
    }
   ],
   "source": [
    "help(movieModel.generateSchedule)"
   ]
  },
  {
   "cell_type": "code",
   "execution_count": null,
   "metadata": {},
   "outputs": [],
   "source": []
  }
 ],
 "metadata": {
  "kernelspec": {
   "display_name": "Python 3",
   "language": "python",
   "name": "python3"
  },
  "language_info": {
   "codemirror_mode": {
    "name": "ipython",
    "version": 3
   },
   "file_extension": ".py",
   "mimetype": "text/x-python",
   "name": "python",
   "nbconvert_exporter": "python",
   "pygments_lexer": "ipython3",
   "version": "3.7.4"
  }
 },
 "nbformat": 4,
 "nbformat_minor": 4
}
