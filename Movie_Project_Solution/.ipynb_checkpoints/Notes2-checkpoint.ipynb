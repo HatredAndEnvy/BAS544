{
 "cells": [
  {
   "cell_type": "code",
   "execution_count": 2,
   "metadata": {},
   "outputs": [],
   "source": [
    "run -i createSchedules.py"
   ]
  },
  {
   "cell_type": "code",
   "execution_count": 4,
   "metadata": {},
   "outputs": [
    {
     "name": "stdout",
     "output_type": "stream",
     "text": [
      "   Auditoriums  Seat Count\n",
      "0            1         200\n",
      "1            2         200\n",
      "2            3         200\n"
     ]
    }
   ],
   "source": [
    "print(ThDetsDF)"
   ]
  },
  {
   "cell_type": "code",
   "execution_count": 14,
   "metadata": {},
   "outputs": [
    {
     "data": {
      "text/plain": [
       "3"
      ]
     },
     "execution_count": 14,
     "metadata": {},
     "output_type": "execute_result"
    }
   ],
   "source": [
    "ThDetsDF.shape[0]\n"
   ]
  },
  {
   "cell_type": "code",
   "execution_count": 17,
   "metadata": {},
   "outputs": [
    {
     "data": {
      "text/plain": [
       "['TB_fake_Schedule.csv', 'TB_original_Schedule__.csv']"
      ]
     },
     "execution_count": 17,
     "metadata": {},
     "output_type": "execute_result"
    }
   ],
   "source": [
    "Schedules =  [ f.name for f in os.scandir(\"Schedules\") if f.is_file() & bool(re.search(\".*\\.csv$\", f.name)) ]\n",
    "type(Schedules[0])\n",
    "Schedules"
   ]
  },
  {
   "cell_type": "code",
   "execution_count": 20,
   "metadata": {},
   "outputs": [],
   "source": [
    "schedules =  [ f.name for f in os.scandir(\"Schedules\") if f.is_file() & bool(re.search(\".*_Schedule\\.csv$\", f.name)) ]\n",
    "scheduleNamesDict = [{'label' : re.search('(.+?)_Schedule\\.csv', sch).group(1), 'value': sch} for sch in schedules]"
   ]
  },
  {
   "cell_type": "code",
   "execution_count": 21,
   "metadata": {},
   "outputs": [
    {
     "name": "stdout",
     "output_type": "stream",
     "text": [
      "[{'label': 'TB_fake', 'value': 'TB_fake_Schedule.csv'}]\n"
     ]
    }
   ],
   "source": [
    "print(scheduleNamesDict)"
   ]
  },
  {
   "cell_type": "code",
   "execution_count": null,
   "metadata": {},
   "outputs": [],
   "source": []
  }
 ],
 "metadata": {
  "kernelspec": {
   "display_name": "Python 3",
   "language": "python",
   "name": "python3"
  },
  "language_info": {
   "codemirror_mode": {
    "name": "ipython",
    "version": 3
   },
   "file_extension": ".py",
   "mimetype": "text/x-python",
   "name": "python",
   "nbconvert_exporter": "python",
   "pygments_lexer": "ipython3",
   "version": "3.7.4"
  }
 },
 "nbformat": 4,
 "nbformat_minor": 4
}
